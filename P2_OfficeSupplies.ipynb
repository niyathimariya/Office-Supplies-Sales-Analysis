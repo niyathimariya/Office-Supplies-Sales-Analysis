{
  "nbformat": 4,
  "nbformat_minor": 0,
  "metadata": {
    "colab": {
      "provenance": [],
      "authorship_tag": "ABX9TyOZqD4y1B+gbCIez6yNEaQ3",
      "include_colab_link": true
    },
    "kernelspec": {
      "name": "python3",
      "display_name": "Python 3"
    },
    "language_info": {
      "name": "python"
    }
  },
  "cells": [
    {
      "cell_type": "markdown",
      "metadata": {
        "id": "view-in-github",
        "colab_type": "text"
      },
      "source": [
        "<a href=\"https://colab.research.google.com/github/niyathimariya/office-supplies/blob/main/P2_OfficeSupplies.ipynb\" target=\"_parent\"><img src=\"https://colab.research.google.com/assets/colab-badge.svg\" alt=\"Open In Colab\"/></a>"
      ]
    },
    {
      "cell_type": "code",
      "execution_count": 1,
      "metadata": {
        "id": "L9Jong4aaS-N"
      },
      "outputs": [],
      "source": [
        "import pandas as pd\n",
        "import matplotlib.pyplot as plt"
      ]
    },
    {
      "cell_type": "markdown",
      "source": [
        "# Load the data"
      ],
      "metadata": {
        "id": "CYvna9lBemSU"
      }
    },
    {
      "cell_type": "code",
      "source": [
        "data = pd.read_csv('P2- OfficeSupplies Data.csv')"
      ],
      "metadata": {
        "id": "Xd2BCSkDbHgZ"
      },
      "execution_count": 2,
      "outputs": []
    },
    {
      "cell_type": "markdown",
      "source": [
        "# Convert OrderDate to datetime"
      ],
      "metadata": {
        "id": "-VuuLAfKerA9"
      }
    },
    {
      "cell_type": "code",
      "source": [
        "data['OrderDate'] = pd.to_datetime(data['OrderDate'], format='%d-%b-%y')"
      ],
      "metadata": {
        "id": "fDEjoexTbwLl"
      },
      "execution_count": 3,
      "outputs": []
    },
    {
      "cell_type": "markdown",
      "source": [
        "# Convert OrderDate"
      ],
      "metadata": {
        "id": "ii003QKGe9Xg"
      }
    },
    {
      "cell_type": "code",
      "source": [
        "data['Total Sales'] = data['Units'] * data['Unit Price']"
      ],
      "metadata": {
        "id": "uLVuePQFcpeu"
      },
      "execution_count": 4,
      "outputs": []
    },
    {
      "cell_type": "markdown",
      "source": [
        "# 1. Sales Analysis\n",
        "\n",
        "# Total sales for each product category"
      ],
      "metadata": {
        "id": "sJ0doz2QceNE"
      }
    },
    {
      "cell_type": "code",
      "source": [
        "total_sales_per_category = data.groupby('Item')['Total Sales'].sum().sort_values(ascending=False)\n",
        "print(\"Total Sales for Each Product Category:\\n\", total_sales_per_category)"
      ],
      "metadata": {
        "colab": {
          "base_uri": "https://localhost:8080/"
        },
        "id": "mMVXdsxeb0h1",
        "outputId": "3d00dcde-26ce-4599-8098-170a2d004133"
      },
      "execution_count": 5,
      "outputs": [
        {
          "output_type": "stream",
          "name": "stdout",
          "text": [
            "Total Sales for Each Product Category:\n",
            " Item\n",
            "Binder     9577.65\n",
            "Pen Set    4169.87\n",
            "Pencil     2135.14\n",
            "Pen        2045.22\n",
            "Desk       1700.00\n",
            "Name: Total Sales, dtype: float64\n"
          ]
        }
      ]
    },
    {
      "cell_type": "markdown",
      "source": [
        "# Product category with the highest sales"
      ],
      "metadata": {
        "id": "okL5U2lNfQMZ"
      }
    },
    {
      "cell_type": "code",
      "source": [
        "highest_sales_category = total_sales_per_category.idxmax()\n",
        "print(\"\\nProduct Category with the Highest Sales:\", highest_sales_category)"
      ],
      "metadata": {
        "colab": {
          "base_uri": "https://localhost:8080/"
        },
        "id": "DPi0QBiRcxxi",
        "outputId": "d49f20ff-8532-4c5b-d2b2-5c1163bff2b4"
      },
      "execution_count": 6,
      "outputs": [
        {
          "output_type": "stream",
          "name": "stdout",
          "text": [
            "\n",
            "Product Category with the Highest Sales: Binder\n"
          ]
        }
      ]
    },
    {
      "cell_type": "markdown",
      "source": [
        "# Top 10 best-selling products"
      ],
      "metadata": {
        "id": "ov4sDPXwfTOA"
      }
    },
    {
      "cell_type": "code",
      "source": [
        "top_10_best_selling_products = data.groupby('Item')['Units'].sum().sort_values(ascending=False).head(10)\n",
        "print(\"\\nTop 10 Best-Selling Products:\\n\", top_10_best_selling_products)"
      ],
      "metadata": {
        "colab": {
          "base_uri": "https://localhost:8080/"
        },
        "id": "6ezBGpnmc2ky",
        "outputId": "5c5eb575-f0da-42c6-aaf4-b96892be901a"
      },
      "execution_count": 7,
      "outputs": [
        {
          "output_type": "stream",
          "name": "stdout",
          "text": [
            "\n",
            "Top 10 Best-Selling Products:\n",
            " Item\n",
            "Binder     722\n",
            "Pencil     716\n",
            "Pen Set    395\n",
            "Pen        278\n",
            "Desk        10\n",
            "Name: Units, dtype: int64\n"
          ]
        }
      ]
    },
    {
      "cell_type": "markdown",
      "source": [
        "# 2. Customer Analysis\n",
        "\n",
        "# Top 10 customers by sales"
      ],
      "metadata": {
        "id": "-8-Bsi3hfXlD"
      }
    },
    {
      "cell_type": "code",
      "source": [
        "top_10_customers_by_sales = data.groupby('Rep')['Total Sales'].sum().sort_values(ascending=False).head(10)\n",
        "print(\"\\nTop 10 Customers by Sales:\\n\", top_10_customers_by_sales)"
      ],
      "metadata": {
        "colab": {
          "base_uri": "https://localhost:8080/"
        },
        "id": "WMhu-ntIc9sy",
        "outputId": "60f55a36-f326-4872-ba10-1e8fd4d760e2"
      },
      "execution_count": 8,
      "outputs": [
        {
          "output_type": "stream",
          "name": "stdout",
          "text": [
            "\n",
            "Top 10 Customers by Sales:\n",
            " Rep\n",
            "Matthew    3109.44\n",
            "Susan      3102.30\n",
            "Alex       2812.19\n",
            "Richard    2363.04\n",
            "Bill       1749.87\n",
            "Smith      1641.43\n",
            "Morgan     1387.77\n",
            "James      1283.61\n",
            "Thomas     1203.11\n",
            "Nick        536.75\n",
            "Name: Total Sales, dtype: float64\n"
          ]
        }
      ]
    },
    {
      "cell_type": "markdown",
      "source": [
        "# Total number of unique customers"
      ],
      "metadata": {
        "id": "NV_107CDfb_4"
      }
    },
    {
      "cell_type": "code",
      "source": [
        "unique_customers = data['Rep'].nunique()\n",
        "print(\"\\nTotal Number of Unique Customers:\", unique_customers)"
      ],
      "metadata": {
        "colab": {
          "base_uri": "https://localhost:8080/"
        },
        "id": "brRuy5TRdEib",
        "outputId": "c1823395-5194-4930-db1e-ceb53e1f69b9"
      },
      "execution_count": 9,
      "outputs": [
        {
          "output_type": "stream",
          "name": "stdout",
          "text": [
            "\n",
            "Total Number of Unique Customers: 11\n"
          ]
        }
      ]
    },
    {
      "cell_type": "markdown",
      "source": [
        "# Customer purchase frequency (number of purchases per customer)"
      ],
      "metadata": {
        "id": "CT5CpsKafh9V"
      }
    },
    {
      "cell_type": "code",
      "source": [
        "customer_purchase_frequency = data['Rep'].value_counts()\n",
        "print(\"\\nCustomer Purchase Frequency:\\n\", customer_purchase_frequency)"
      ],
      "metadata": {
        "colab": {
          "base_uri": "https://localhost:8080/"
        },
        "id": "2cFsq3vVdJ2O",
        "outputId": "76430304-6b44-4cc5-9b93-cda1ae0aa266"
      },
      "execution_count": 10,
      "outputs": [
        {
          "output_type": "stream",
          "name": "stdout",
          "text": [
            "\n",
            "Customer Purchase Frequency:\n",
            " Rep\n",
            "Richard    8\n",
            "Bill       5\n",
            "Alex       5\n",
            "Matthew    4\n",
            "James      4\n",
            "Rachel     4\n",
            "Morgan     3\n",
            "Susan      3\n",
            "Smith      3\n",
            "Nick       2\n",
            "Thomas     2\n",
            "Name: count, dtype: int64\n"
          ]
        }
      ]
    },
    {
      "cell_type": "markdown",
      "source": [
        "# 3. Time Series Analysis\n",
        "\n",
        "# Monthly sales trends over the past year"
      ],
      "metadata": {
        "id": "j5xCVdAMfnAn"
      }
    },
    {
      "cell_type": "code",
      "source": [
        "data['Month'] = data['OrderDate'].dt.to_period('M')\n",
        "monthly_sales_trends = data.groupby('Month')['Total Sales'].sum()\n",
        "print(\"\\nMonthly Sales Trends Over the Past Year:\\n\", monthly_sales_trends)"
      ],
      "metadata": {
        "colab": {
          "base_uri": "https://localhost:8080/"
        },
        "id": "gbHj_Y7IdPuN",
        "outputId": "0bcc6523-5a17-43c0-a1f3-ef6370815b3c"
      },
      "execution_count": 12,
      "outputs": [
        {
          "output_type": "stream",
          "name": "stdout",
          "text": [
            "\n",
            "Monthly Sales Trends Over the Past Year:\n",
            " Month\n",
            "2014-07    2673.23\n",
            "2014-08    2005.55\n",
            "2014-09     666.11\n",
            "2014-10    1984.57\n",
            "2014-11     833.78\n",
            "2014-12    3288.47\n",
            "2015-01    1602.09\n",
            "2015-02    2044.33\n",
            "2015-03     556.87\n",
            "2015-04    1059.03\n",
            "2015-05    1300.35\n",
            "2015-06    1613.50\n",
            "Freq: M, Name: Total Sales, dtype: float64\n"
          ]
        }
      ]
    },
    {
      "cell_type": "markdown",
      "source": [
        "# Plot monthly sales trends"
      ],
      "metadata": {
        "id": "0EvQrYKEfrmO"
      }
    },
    {
      "cell_type": "code",
      "source": [
        "monthly_sales_trends.plot(kind='line', title='Monthly Sales Trends Over the Past Year')\n",
        "plt.xlabel('Month')\n",
        "plt.ylabel('Total Sales')\n",
        "plt.show()"
      ],
      "metadata": {
        "colab": {
          "base_uri": "https://localhost:8080/",
          "height": 488
        },
        "id": "XllwUheodUK2",
        "outputId": "de5c28ea-708a-4e02-9442-0946368fec3e"
      },
      "execution_count": 13,
      "outputs": [
        {
          "output_type": "display_data",
          "data": {
            "text/plain": [
              "<Figure size 640x480 with 1 Axes>"
            ],
            "image/png": "[encoded data removed]"
          },
          "metadata": {}
        }
      ]
    },
    {
      "cell_type": "markdown",
      "source": [
        "December shows the highest sales. November and January show a significant drop in total sales. The lowest total sales occurred in March"
      ],
      "metadata": {
        "id": "E2GAsHQBgmMI"
      }
    },
    {
      "cell_type": "markdown",
      "source": [
        "# 4. Geographical Analysis\n",
        "\n",
        "# Regions generating the most sales"
      ],
      "metadata": {
        "id": "Jm-H_EuNfxRW"
      }
    },
    {
      "cell_type": "code",
      "source": [
        "sales_by_region = data.groupby('Region')['Total Sales'].sum().sort_values(ascending=False)\n",
        "print(\"\\nRegions Generating the Most Sales:\\n\", sales_by_region)"
      ],
      "metadata": {
        "colab": {
          "base_uri": "https://localhost:8080/"
        },
        "id": "Yuez7--jdYNX",
        "outputId": "97546240-347f-49ef-b230-1f6ec9e60327"
      },
      "execution_count": 14,
      "outputs": [
        {
          "output_type": "stream",
          "name": "stdout",
          "text": [
            "\n",
            "Regions Generating the Most Sales:\n",
            " Region\n",
            "Central    11139.07\n",
            "East        6002.09\n",
            "West        2486.72\n",
            "Name: Total Sales, dtype: float64\n"
          ]
        }
      ]
    },
    {
      "cell_type": "markdown",
      "source": [
        "# Plot sales by region"
      ],
      "metadata": {
        "id": "D7aG_PmLf150"
      }
    },
    {
      "cell_type": "code",
      "source": [
        "sales_by_region.plot(kind='bar', title='Sales by Region')\n",
        "plt.xlabel('Region')\n",
        "plt.ylabel('Total Sales')\n",
        "plt.show()"
      ],
      "metadata": {
        "colab": {
          "base_uri": "https://localhost:8080/",
          "height": 508
        },
        "id": "7oChet_Eddso",
        "outputId": "2515e823-d0b1-4e77-91f3-f7561b854ec1"
      },
      "execution_count": 15,
      "outputs": [
        {
          "output_type": "display_data",
          "data": {
            "text/plain": [
              "<Figure size 640x480 with 1 Axes>"
            ],
            "image/png": "[encoded data removed]"
          },
          "metadata": {}
        }
      ]
    },
    {
      "cell_type": "markdown",
      "source": [
        "Sales are highest in Central(11,139.07) followed by East(6,002.09) and West(2,486.72)"
      ],
      "metadata": {
        "id": "2HfmD6mvhw4n"
      }
    },
    {
      "cell_type": "markdown",
      "source": [
        "# 5. Profit Analysis\n",
        "\n",
        "# Total profit for each product category"
      ],
      "metadata": {
        "id": "TK_S2eVpf637"
      }
    },
    {
      "cell_type": "code",
      "source": [
        "data['Total Profit'] = data['Total Sales'] * 0.20"
      ],
      "metadata": {
        "id": "q2lFgO1Ndoxf"
      },
      "execution_count": 16,
      "outputs": []
    },
    {
      "cell_type": "code",
      "source": [
        "total_profit_per_category = data.groupby('Item')['Total Profit'].sum().sort_values(ascending=False)\n",
        "print(\"\\nTotal Profit for Each Product Category:\\n\", total_profit_per_category)"
      ],
      "metadata": {
        "colab": {
          "base_uri": "https://localhost:8080/"
        },
        "id": "Ia2BvJArdjd9",
        "outputId": "6acb845f-41f8-4465-cb1f-b4aaef7b6f54"
      },
      "execution_count": 17,
      "outputs": [
        {
          "output_type": "stream",
          "name": "stdout",
          "text": [
            "\n",
            "Total Profit for Each Product Category:\n",
            " Item\n",
            "Binder     1915.530\n",
            "Pen Set     833.974\n",
            "Pencil      427.028\n",
            "Pen         409.044\n",
            "Desk        340.000\n",
            "Name: Total Profit, dtype: float64\n"
          ]
        }
      ]
    },
    {
      "cell_type": "markdown",
      "source": [
        "# Top 10 most profitable products"
      ],
      "metadata": {
        "id": "uxji6h73f--1"
      }
    },
    {
      "cell_type": "code",
      "source": [
        "top_10_most_profitable_products = data.groupby('Item')['Total Profit'].sum().sort_values(ascending=False).head(10)\n",
        "print(\"\\nTop 10 Most Profitable Products:\\n\", top_10_most_profitable_products)"
      ],
      "metadata": {
        "colab": {
          "base_uri": "https://localhost:8080/"
        },
        "id": "cN5XqyEHd9Td",
        "outputId": "bc567225-ce2c-4ed2-9130-3b0a02ef70c7"
      },
      "execution_count": 18,
      "outputs": [
        {
          "output_type": "stream",
          "name": "stdout",
          "text": [
            "\n",
            "Top 10 Most Profitable Products:\n",
            " Item\n",
            "Binder     1915.530\n",
            "Pen Set     833.974\n",
            "Pencil      427.028\n",
            "Pen         409.044\n",
            "Desk        340.000\n",
            "Name: Total Profit, dtype: float64\n"
          ]
        }
      ]
    },
    {
      "cell_type": "markdown",
      "source": [
        "# Plot top 10 most profitable products"
      ],
      "metadata": {
        "id": "lrs45XnBgDF3"
      }
    },
    {
      "cell_type": "code",
      "source": [
        "top_10_most_profitable_products.plot(kind='bar', title='Top 10 Most Profitable Products')\n",
        "plt.xlabel('Product')\n",
        "plt.ylabel('Total Profit')\n",
        "plt.show()"
      ],
      "metadata": {
        "colab": {
          "base_uri": "https://localhost:8080/",
          "height": 510
        },
        "id": "JI7G9UpneIEg",
        "outputId": "724e27bf-74b1-452d-b31c-c0bf413c8cfa"
      },
      "execution_count": 19,
      "outputs": [
        {
          "output_type": "display_data",
          "data": {
            "text/plain": [
              "<Figure size 640x480 with 1 Axes>"
            ],
            "image/png": "[encoded data removed]"
          },
          "metadata": {}
        }
      ]
    },
    {
      "cell_type": "markdown",
      "source": [
        "Sales of Binder turns out to be more profitable, followed by Pen Set and then Pencil"
      ],
      "metadata": {
        "id": "4mwmEidPiJFq"
      }
    }
  ]
}